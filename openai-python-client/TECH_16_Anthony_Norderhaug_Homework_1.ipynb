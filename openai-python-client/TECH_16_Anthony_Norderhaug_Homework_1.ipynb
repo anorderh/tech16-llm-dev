{
  "nbformat": 4,
  "nbformat_minor": 0,
  "metadata": {
    "colab": {
      "provenance": []
    },
    "kernelspec": {
      "name": "python3",
      "display_name": "Python 3"
    },
    "language_info": {
      "name": "python"
    }
  },
  "cells": [
    {
      "cell_type": "code",
      "source": [
        "!pip install openai"
      ],
      "metadata": {
        "id": "UAsj88npPdRu",
        "colab": {
          "base_uri": "https://localhost:8080/"
        },
        "outputId": "eb976aa6-df92-4e73-9bbb-2634f2e4c21e"
      },
      "execution_count": null,
      "outputs": [
        {
          "output_type": "stream",
          "name": "stdout",
          "text": [
            "Collecting openai\n",
            "  Downloading openai-1.35.14-py3-none-any.whl (328 kB)\n",
            "\u001b[2K     \u001b[90m━━━━━━━━━━━━━━━━━━━━━━━━━━━━━━━━━━━━━━━━\u001b[0m \u001b[32m328.5/328.5 kB\u001b[0m \u001b[31m3.5 MB/s\u001b[0m eta \u001b[36m0:00:00\u001b[0m\n",
            "\u001b[?25hRequirement already satisfied: anyio<5,>=3.5.0 in /usr/local/lib/python3.10/dist-packages (from openai) (3.7.1)\n",
            "Requirement already satisfied: distro<2,>=1.7.0 in /usr/lib/python3/dist-packages (from openai) (1.7.0)\n",
            "Collecting httpx<1,>=0.23.0 (from openai)\n",
            "  Downloading httpx-0.27.0-py3-none-any.whl (75 kB)\n",
            "\u001b[2K     \u001b[90m━━━━━━━━━━━━━━━━━━━━━━━━━━━━━━━━━━━━━━━━\u001b[0m \u001b[32m75.6/75.6 kB\u001b[0m \u001b[31m3.0 MB/s\u001b[0m eta \u001b[36m0:00:00\u001b[0m\n",
            "\u001b[?25hRequirement already satisfied: pydantic<3,>=1.9.0 in /usr/local/lib/python3.10/dist-packages (from openai) (2.8.2)\n",
            "Requirement already satisfied: sniffio in /usr/local/lib/python3.10/dist-packages (from openai) (1.3.1)\n",
            "Requirement already satisfied: tqdm>4 in /usr/local/lib/python3.10/dist-packages (from openai) (4.66.4)\n",
            "Requirement already satisfied: typing-extensions<5,>=4.7 in /usr/local/lib/python3.10/dist-packages (from openai) (4.12.2)\n",
            "Requirement already satisfied: idna>=2.8 in /usr/local/lib/python3.10/dist-packages (from anyio<5,>=3.5.0->openai) (3.7)\n",
            "Requirement already satisfied: exceptiongroup in /usr/local/lib/python3.10/dist-packages (from anyio<5,>=3.5.0->openai) (1.2.2)\n",
            "Requirement already satisfied: certifi in /usr/local/lib/python3.10/dist-packages (from httpx<1,>=0.23.0->openai) (2024.7.4)\n",
            "Collecting httpcore==1.* (from httpx<1,>=0.23.0->openai)\n",
            "  Downloading httpcore-1.0.5-py3-none-any.whl (77 kB)\n",
            "\u001b[2K     \u001b[90m━━━━━━━━━━━━━━━━━━━━━━━━━━━━━━━━━━━━━━━━\u001b[0m \u001b[32m77.9/77.9 kB\u001b[0m \u001b[31m4.3 MB/s\u001b[0m eta \u001b[36m0:00:00\u001b[0m\n",
            "\u001b[?25hCollecting h11<0.15,>=0.13 (from httpcore==1.*->httpx<1,>=0.23.0->openai)\n",
            "  Downloading h11-0.14.0-py3-none-any.whl (58 kB)\n",
            "\u001b[2K     \u001b[90m━━━━━━━━━━━━━━━━━━━━━━━━━━━━━━━━━━━━━━━━\u001b[0m \u001b[32m58.3/58.3 kB\u001b[0m \u001b[31m4.7 MB/s\u001b[0m eta \u001b[36m0:00:00\u001b[0m\n",
            "\u001b[?25hRequirement already satisfied: annotated-types>=0.4.0 in /usr/local/lib/python3.10/dist-packages (from pydantic<3,>=1.9.0->openai) (0.7.0)\n",
            "Requirement already satisfied: pydantic-core==2.20.1 in /usr/local/lib/python3.10/dist-packages (from pydantic<3,>=1.9.0->openai) (2.20.1)\n",
            "Installing collected packages: h11, httpcore, httpx, openai\n",
            "Successfully installed h11-0.14.0 httpcore-1.0.5 httpx-0.27.0 openai-1.35.14\n"
          ]
        }
      ]
    },
    {
      "cell_type": "markdown",
      "source": [
        "# Homework starter"
      ],
      "metadata": {
        "id": "jaKXksKrUl5n"
      }
    },
    {
      "cell_type": "code",
      "source": [
        "from openai import OpenAI\n",
        "from google.colab import userdata\n",
        "import requests\n",
        "\n",
        "# Setup client and helper method.\n",
        "open_ai_key = userdata.get('open_ai_key')\n",
        "client = OpenAI(api_key=open_ai_key)\n",
        "\n",
        "def ask(context, message):\n",
        "    response = client.chat.completions.create(\n",
        "        model=\"gpt-3.5-turbo\",\n",
        "        messages=[\n",
        "            {\"role\": \"system\", \"content\": context},\n",
        "            {\"role\": \"user\", \"content\": message}\n",
        "        ]\n",
        "    )\n",
        "\n",
        "    text = response.choices[0].message.content\n",
        "    return text"
      ],
      "metadata": {
        "id": "zvyyGYKYUlUU"
      },
      "execution_count": null,
      "outputs": []
    },
    {
      "cell_type": "code",
      "source": [
        "# Summarize a CNBC article's opening excerpts (https://www.cnbc.com/2024/07/17/stock-market-today-live-updates.html).\n",
        "res = ask(\n",
        "    \"You are an LLM.\",\n",
        "    \"\"\"\n",
        "    Generate a single sentence summarizing the text below in an understandable format.\n",
        "\n",
        "    Article excerpts:\n",
        "\n",
        "    Stocks fell on Thursday, as the technology sector continued struggling amid the market’s rotation on hopes of easing monetary policy.\n",
        "    The technology-heavy Nasdaq Composite lost 1.2%. The S&P 500dropped 0.8%. The Dow Jones Industrial Average slid 337 points, or 0.8%.\n",
        "    The Nasdaq’s underperformance marks a continuation of the broader shift away from tech seen in recent days. Wall Street has dumped\n",
        "    shares of artificial intelligence plays as the growing likelihood of a September interest rate cut from the Federal Reserve bolstered\n",
        "    optimism in the broader market. On the other hand, that’s largely helped small-cap and more cyclical names, which are seen as bigger\n",
        "    beneficiaries of lower borrowing costs.\n",
        "    \"\"\"\n",
        ");\n",
        "print(res)"
      ],
      "metadata": {
        "id": "t9IkhW2Gs-uf",
        "outputId": "6e4d42be-a277-4918-a790-5ebfe615daf4",
        "colab": {
          "base_uri": "https://localhost:8080/"
        }
      },
      "execution_count": null,
      "outputs": [
        {
          "output_type": "stream",
          "name": "stdout",
          "text": [
            "Stocks, particularly in the technology sector, fell as investors shifted focus on easing monetary policy, leading to a market rotation favoring small-cap and cyclical stocks over artificial intelligence plays.\n"
          ]
        }
      ]
    },
    {
      "cell_type": "code",
      "source": [
        "# Compare 2 documents.\n",
        "\n",
        "randomJokesEndpoint = \"https://official-joke-api.appspot.com/random_joke\";\n",
        "def getRandomJoke():\n",
        "    res = requests.get(randomJokesEndpoint)\n",
        "    data = res.json()\n",
        "\n",
        "    return data[\"setup\"] + \" \" + data[\"punchline\"]\n",
        "\n",
        "input = f\"\"\"\n",
        "Document 1:\n",
        "{getRandomJoke()}\n",
        "\n",
        "Document 2:\n",
        "{getRandomJoke()}\n",
        "\"\"\"\n",
        "res = ask(\n",
        "  \"You are an LLM.\",\n",
        "  f\"\"\"\n",
        "  Analyze and compare the performance of the 2 documents below in generating humorous content.\n",
        "  Determine which is more funny.\n",
        "  Be as objective as possible, and ensure that 1 joke is designated as \\\"more funny\\\" than the other.\n",
        "\n",
        "  {input}\n",
        "  \"\"\"\n",
        ")\n",
        "\n",
        "print(f\"{input}\\nResponse:\\n{res}\")"
      ],
      "metadata": {
        "id": "SJYo00_Es_iO",
        "outputId": "7aba6e95-8d08-41ec-b9d0-bc4dbe4b5171",
        "colab": {
          "base_uri": "https://localhost:8080/"
        }
      },
      "execution_count": null,
      "outputs": [
        {
          "output_type": "stream",
          "name": "stdout",
          "text": [
            "\n",
            "Document 1:\n",
            "Why do trees seem suspicious on sunny days? Dunno, they're just a bit shady.\n",
            "\n",
            "Document 2:\n",
            "Why do crabs never give to charity? Because they’re shellfish.\n",
            "\n",
            "Response:\n",
            "Both jokes from Document 1 and Document 2 utilize puns to create humor. In Document 1, the joke plays on the phrase \"a bit shady,\" using a play on words with the concept of trees providing shade and the colloquial term \"shady\" meaning suspicious. This pun is clever and produces a chuckle by connecting two unrelated concepts in a surprising way.\n",
            "\n",
            "On the other hand, Document 2's joke involves wordplay with the word \"shellfish,\" which sounds like \"selfish.\" The pun revolves around the idea that crabs are selfish because they are shellfish. While this joke is also clever in its wordplay, it may be considered more straightforward compared to the layered pun in Document 1.\n",
            "\n",
            "In terms of generating humor, Document 1's joke may be considered \"more funny\" due to the cleverness of linking the concept of trees providing shade with the slang term \"shady\" to create a humorous twist. The joke in Document 2 is also amusing but might be perceived as slightly more predictable in its wordplay compared to the unexpected connection in Document 1. Therefore, Document 1 is designated as \"more funny\" in this comparison.\n"
          ]
        }
      ]
    }
  ]
}